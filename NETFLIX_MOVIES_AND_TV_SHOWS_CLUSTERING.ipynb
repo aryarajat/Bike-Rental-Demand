{
  "nbformat": 4,
  "nbformat_minor": 0,
  "metadata": {
    "colab": {
      "name": "NETFLIX MOVIES AND TV SHOWS CLUSTERING.ipynb",
      "provenance": [],
      "collapsed_sections": [],
      "include_colab_link": true
    },
    "kernelspec": {
      "name": "python3",
      "display_name": "Python 3"
    },
    "language_info": {
      "name": "python"
    }
  },
  "cells": [
    {
      "cell_type": "markdown",
      "metadata": {
        "id": "view-in-github",
        "colab_type": "text"
      },
      "source": [
        "<a href=\"https://colab.research.google.com/github/aryarajat/Bike-Rental-Demand/blob/main/NETFLIX_MOVIES_AND_TV_SHOWS_CLUSTERING.ipynb\" target=\"_parent\"><img src=\"https://colab.research.google.com/assets/colab-badge.svg\" alt=\"Open In Colab\"/></a>"
      ]
    },
    {
      "cell_type": "markdown",
      "metadata": {
        "id": "LGcl5Bv9ed6u"
      },
      "source": [
        "# **Problem Statement**"
      ]
    },
    {
      "cell_type": "markdown",
      "metadata": {
        "id": "8M5kyFaVjzXk"
      },
      "source": [
        "This dataset consists of tv shows and movies available on Netflix as of 2019. The dataset is collected from Flixable which is a third-party Netflix search engine.\n",
        "\n",
        "In 2018, they released an interesting report which shows that the number of TV shows on Netflix has nearly tripled since 2010. The streaming service’s number of movies has decreased by more than 2,000 titles since 2010, while its number of TV shows has nearly tripled. It will be interesting to explore what all other insights can be obtained from the same dataset.\n",
        "\n",
        "Integrating this dataset with other external datasets such as IMDB ratings, rotten tomatoes can also provide many interesting findings."
      ]
    },
    {
      "cell_type": "markdown",
      "metadata": {
        "id": "tLx5cJO8hzb1"
      },
      "source": [
        "## <b>In this  project, you are required to do </b>\n",
        "1. Exploratory Data Analysis \n",
        "\n",
        "2. Understanding what type content is available in different countries\n",
        "\n",
        "3. Is Netflix has increasingly focusing on TV rather than movies in recent years.\n",
        "4. Clustering similar content by matching text-based features\n",
        "\n"
      ]
    },
    {
      "cell_type": "markdown",
      "metadata": {
        "id": "AzGDqdC4fZ-b"
      },
      "source": [
        "# **Attribute Information**"
      ]
    },
    {
      "cell_type": "markdown",
      "metadata": {
        "id": "jhfLYargscGV"
      },
      "source": [
        "1. show_id : Unique ID for every Movie / Tv Show\n",
        "\n",
        "2. type : Identifier - A Movie or TV Show\n",
        "\n",
        "3. title : Title of the Movie / Tv Show\n",
        "\n",
        "4. director : Director of the Movie\n",
        "\n",
        "5. cast : Actors involved in the movie / show\n",
        "\n",
        "6. country : Country where the movie / show was produced\n",
        "\n",
        "7. date_added : Date it was added on Netflix\n",
        "\n",
        "8. release_year : Actual Releaseyear of the movie / show\n",
        "\n",
        "9. rating : TV Rating of the movie / show\n",
        "\n",
        "10. duration : Total Duration - in minutes or number of seasons\n",
        "\n",
        "11. listed_in : Genere\n",
        "\n",
        "12. description: The Summary description"
      ]
    },
    {
      "cell_type": "code",
      "metadata": {
        "id": "wKvKDv8aCoaq"
      },
      "source": [
        "# Importing the libraries\n",
        "import numpy as np\n",
        "import pandas as pd\n",
        "import matplotlib.pyplot as plt\n",
        "import seaborn as sns\n",
        "from sklearn.preprocessing import MinMaxScaler\n",
        "from sklearn.model_selection import train_test_split\n",
        "from numpy import math\n",
        "import warnings\n",
        "warnings.filterwarnings('ignore')"
      ],
      "execution_count": 1,
      "outputs": []
    },
    {
      "cell_type": "code",
      "metadata": {
        "colab": {
          "base_uri": "https://localhost:8080/"
        },
        "id": "HmoJqkN0C9eL",
        "outputId": "fa75915c-6ee2-487c-fe6b-fa9cfdc20131"
      },
      "source": [
        "# Mounting the Drive\n",
        "from google.colab import drive\n",
        "drive.mount('/content/drive')"
      ],
      "execution_count": 2,
      "outputs": [
        {
          "output_type": "stream",
          "name": "stdout",
          "text": [
            "Drive already mounted at /content/drive; to attempt to forcibly remount, call drive.mount(\"/content/drive\", force_remount=True).\n"
          ]
        }
      ]
    },
    {
      "cell_type": "code",
      "metadata": {
        "id": "mnCd2g61DD0j"
      },
      "source": [
        "# Loading the dataset\n",
        "netflix_df=pd.read_csv('/content/drive/MyDrive/NETFLIX MOVIES AND TV SHOWS CLUSTERING.csv')"
      ],
      "execution_count": 3,
      "outputs": []
    },
    {
      "cell_type": "code",
      "metadata": {
        "colab": {
          "base_uri": "https://localhost:8080/",
          "height": 374
        },
        "id": "7P4MRYb1DWMQ",
        "outputId": "e23e39a6-831b-4294-804a-41185a9f8637"
      },
      "source": [
        "# First look of the dataset\n",
        "netflix_df.head()"
      ],
      "execution_count": 4,
      "outputs": [
        {
          "output_type": "execute_result",
          "data": {
            "text/html": [
              "<div>\n",
              "<style scoped>\n",
              "    .dataframe tbody tr th:only-of-type {\n",
              "        vertical-align: middle;\n",
              "    }\n",
              "\n",
              "    .dataframe tbody tr th {\n",
              "        vertical-align: top;\n",
              "    }\n",
              "\n",
              "    .dataframe thead th {\n",
              "        text-align: right;\n",
              "    }\n",
              "</style>\n",
              "<table border=\"1\" class=\"dataframe\">\n",
              "  <thead>\n",
              "    <tr style=\"text-align: right;\">\n",
              "      <th></th>\n",
              "      <th>show_id</th>\n",
              "      <th>type</th>\n",
              "      <th>title</th>\n",
              "      <th>director</th>\n",
              "      <th>cast</th>\n",
              "      <th>country</th>\n",
              "      <th>date_added</th>\n",
              "      <th>release_year</th>\n",
              "      <th>rating</th>\n",
              "      <th>duration</th>\n",
              "      <th>listed_in</th>\n",
              "      <th>description</th>\n",
              "    </tr>\n",
              "  </thead>\n",
              "  <tbody>\n",
              "    <tr>\n",
              "      <th>0</th>\n",
              "      <td>s1</td>\n",
              "      <td>TV Show</td>\n",
              "      <td>3%</td>\n",
              "      <td>NaN</td>\n",
              "      <td>João Miguel, Bianca Comparato, Michel Gomes, R...</td>\n",
              "      <td>Brazil</td>\n",
              "      <td>August 14, 2020</td>\n",
              "      <td>2020</td>\n",
              "      <td>TV-MA</td>\n",
              "      <td>4 Seasons</td>\n",
              "      <td>International TV Shows, TV Dramas, TV Sci-Fi &amp;...</td>\n",
              "      <td>In a future where the elite inhabit an island ...</td>\n",
              "    </tr>\n",
              "    <tr>\n",
              "      <th>1</th>\n",
              "      <td>s2</td>\n",
              "      <td>Movie</td>\n",
              "      <td>7:19</td>\n",
              "      <td>Jorge Michel Grau</td>\n",
              "      <td>Demián Bichir, Héctor Bonilla, Oscar Serrano, ...</td>\n",
              "      <td>Mexico</td>\n",
              "      <td>December 23, 2016</td>\n",
              "      <td>2016</td>\n",
              "      <td>TV-MA</td>\n",
              "      <td>93 min</td>\n",
              "      <td>Dramas, International Movies</td>\n",
              "      <td>After a devastating earthquake hits Mexico Cit...</td>\n",
              "    </tr>\n",
              "    <tr>\n",
              "      <th>2</th>\n",
              "      <td>s3</td>\n",
              "      <td>Movie</td>\n",
              "      <td>23:59</td>\n",
              "      <td>Gilbert Chan</td>\n",
              "      <td>Tedd Chan, Stella Chung, Henley Hii, Lawrence ...</td>\n",
              "      <td>Singapore</td>\n",
              "      <td>December 20, 2018</td>\n",
              "      <td>2011</td>\n",
              "      <td>R</td>\n",
              "      <td>78 min</td>\n",
              "      <td>Horror Movies, International Movies</td>\n",
              "      <td>When an army recruit is found dead, his fellow...</td>\n",
              "    </tr>\n",
              "    <tr>\n",
              "      <th>3</th>\n",
              "      <td>s4</td>\n",
              "      <td>Movie</td>\n",
              "      <td>9</td>\n",
              "      <td>Shane Acker</td>\n",
              "      <td>Elijah Wood, John C. Reilly, Jennifer Connelly...</td>\n",
              "      <td>United States</td>\n",
              "      <td>November 16, 2017</td>\n",
              "      <td>2009</td>\n",
              "      <td>PG-13</td>\n",
              "      <td>80 min</td>\n",
              "      <td>Action &amp; Adventure, Independent Movies, Sci-Fi...</td>\n",
              "      <td>In a postapocalyptic world, rag-doll robots hi...</td>\n",
              "    </tr>\n",
              "    <tr>\n",
              "      <th>4</th>\n",
              "      <td>s5</td>\n",
              "      <td>Movie</td>\n",
              "      <td>21</td>\n",
              "      <td>Robert Luketic</td>\n",
              "      <td>Jim Sturgess, Kevin Spacey, Kate Bosworth, Aar...</td>\n",
              "      <td>United States</td>\n",
              "      <td>January 1, 2020</td>\n",
              "      <td>2008</td>\n",
              "      <td>PG-13</td>\n",
              "      <td>123 min</td>\n",
              "      <td>Dramas</td>\n",
              "      <td>A brilliant group of students become card-coun...</td>\n",
              "    </tr>\n",
              "  </tbody>\n",
              "</table>\n",
              "</div>"
            ],
            "text/plain": [
              "  show_id  ...                                        description\n",
              "0      s1  ...  In a future where the elite inhabit an island ...\n",
              "1      s2  ...  After a devastating earthquake hits Mexico Cit...\n",
              "2      s3  ...  When an army recruit is found dead, his fellow...\n",
              "3      s4  ...  In a postapocalyptic world, rag-doll robots hi...\n",
              "4      s5  ...  A brilliant group of students become card-coun...\n",
              "\n",
              "[5 rows x 12 columns]"
            ]
          },
          "metadata": {},
          "execution_count": 4
        }
      ]
    },
    {
      "cell_type": "code",
      "metadata": {
        "colab": {
          "base_uri": "https://localhost:8080/"
        },
        "id": "jmhXgolvDsz5",
        "outputId": "b02386e6-b0da-4c84-980e-26c897467021"
      },
      "source": [
        "# Checking the shape of the dataframe\n",
        "netflix_df.shape"
      ],
      "execution_count": 5,
      "outputs": [
        {
          "output_type": "execute_result",
          "data": {
            "text/plain": [
              "(7787, 12)"
            ]
          },
          "metadata": {},
          "execution_count": 5
        }
      ]
    },
    {
      "cell_type": "code",
      "metadata": {
        "colab": {
          "base_uri": "https://localhost:8080/"
        },
        "id": "ynlmFNDsD1uv",
        "outputId": "a154c749-b46f-4d0f-e3a1-3002717e32d8"
      },
      "source": [
        "# Columns name\n",
        "netflix_df.columns"
      ],
      "execution_count": 6,
      "outputs": [
        {
          "output_type": "execute_result",
          "data": {
            "text/plain": [
              "Index(['show_id', 'type', 'title', 'director', 'cast', 'country', 'date_added',\n",
              "       'release_year', 'rating', 'duration', 'listed_in', 'description'],\n",
              "      dtype='object')"
            ]
          },
          "metadata": {},
          "execution_count": 6
        }
      ]
    },
    {
      "cell_type": "code",
      "metadata": {
        "colab": {
          "base_uri": "https://localhost:8080/"
        },
        "id": "YkHcggROD1l1",
        "outputId": "c4677bb1-7d2b-4379-f224-0919491b50ea"
      },
      "source": [
        "# Information about the dataset\n",
        "netflix_df.info()"
      ],
      "execution_count": 7,
      "outputs": [
        {
          "output_type": "stream",
          "name": "stdout",
          "text": [
            "<class 'pandas.core.frame.DataFrame'>\n",
            "RangeIndex: 7787 entries, 0 to 7786\n",
            "Data columns (total 12 columns):\n",
            " #   Column        Non-Null Count  Dtype \n",
            "---  ------        --------------  ----- \n",
            " 0   show_id       7787 non-null   object\n",
            " 1   type          7787 non-null   object\n",
            " 2   title         7787 non-null   object\n",
            " 3   director      5398 non-null   object\n",
            " 4   cast          7069 non-null   object\n",
            " 5   country       7280 non-null   object\n",
            " 6   date_added    7777 non-null   object\n",
            " 7   release_year  7787 non-null   int64 \n",
            " 8   rating        7780 non-null   object\n",
            " 9   duration      7787 non-null   object\n",
            " 10  listed_in     7787 non-null   object\n",
            " 11  description   7787 non-null   object\n",
            "dtypes: int64(1), object(11)\n",
            "memory usage: 730.2+ KB\n"
          ]
        }
      ]
    },
    {
      "cell_type": "code",
      "metadata": {
        "colab": {
          "base_uri": "https://localhost:8080/",
          "height": 407
        },
        "id": "sxQ3ifWFm1hR",
        "outputId": "b0e01b3a-030e-4ada-a8a6-2ddb962a0355"
      },
      "source": [
        "# Find the various statistic for all the columns\n",
        "netflix_df.describe(include='all')"
      ],
      "execution_count": 8,
      "outputs": [
        {
          "output_type": "execute_result",
          "data": {
            "text/html": [
              "<div>\n",
              "<style scoped>\n",
              "    .dataframe tbody tr th:only-of-type {\n",
              "        vertical-align: middle;\n",
              "    }\n",
              "\n",
              "    .dataframe tbody tr th {\n",
              "        vertical-align: top;\n",
              "    }\n",
              "\n",
              "    .dataframe thead th {\n",
              "        text-align: right;\n",
              "    }\n",
              "</style>\n",
              "<table border=\"1\" class=\"dataframe\">\n",
              "  <thead>\n",
              "    <tr style=\"text-align: right;\">\n",
              "      <th></th>\n",
              "      <th>show_id</th>\n",
              "      <th>type</th>\n",
              "      <th>title</th>\n",
              "      <th>director</th>\n",
              "      <th>cast</th>\n",
              "      <th>country</th>\n",
              "      <th>date_added</th>\n",
              "      <th>release_year</th>\n",
              "      <th>rating</th>\n",
              "      <th>duration</th>\n",
              "      <th>listed_in</th>\n",
              "      <th>description</th>\n",
              "    </tr>\n",
              "  </thead>\n",
              "  <tbody>\n",
              "    <tr>\n",
              "      <th>count</th>\n",
              "      <td>7787</td>\n",
              "      <td>7787</td>\n",
              "      <td>7787</td>\n",
              "      <td>5398</td>\n",
              "      <td>7069</td>\n",
              "      <td>7280</td>\n",
              "      <td>7777</td>\n",
              "      <td>7787.000000</td>\n",
              "      <td>7780</td>\n",
              "      <td>7787</td>\n",
              "      <td>7787</td>\n",
              "      <td>7787</td>\n",
              "    </tr>\n",
              "    <tr>\n",
              "      <th>unique</th>\n",
              "      <td>7787</td>\n",
              "      <td>2</td>\n",
              "      <td>7787</td>\n",
              "      <td>4049</td>\n",
              "      <td>6831</td>\n",
              "      <td>681</td>\n",
              "      <td>1565</td>\n",
              "      <td>NaN</td>\n",
              "      <td>14</td>\n",
              "      <td>216</td>\n",
              "      <td>492</td>\n",
              "      <td>7769</td>\n",
              "    </tr>\n",
              "    <tr>\n",
              "      <th>top</th>\n",
              "      <td>s4607</td>\n",
              "      <td>Movie</td>\n",
              "      <td>13TH</td>\n",
              "      <td>Raúl Campos, Jan Suter</td>\n",
              "      <td>David Attenborough</td>\n",
              "      <td>United States</td>\n",
              "      <td>January 1, 2020</td>\n",
              "      <td>NaN</td>\n",
              "      <td>TV-MA</td>\n",
              "      <td>1 Season</td>\n",
              "      <td>Documentaries</td>\n",
              "      <td>Multiple women report their husbands as missin...</td>\n",
              "    </tr>\n",
              "    <tr>\n",
              "      <th>freq</th>\n",
              "      <td>1</td>\n",
              "      <td>5377</td>\n",
              "      <td>1</td>\n",
              "      <td>18</td>\n",
              "      <td>18</td>\n",
              "      <td>2555</td>\n",
              "      <td>118</td>\n",
              "      <td>NaN</td>\n",
              "      <td>2863</td>\n",
              "      <td>1608</td>\n",
              "      <td>334</td>\n",
              "      <td>3</td>\n",
              "    </tr>\n",
              "    <tr>\n",
              "      <th>mean</th>\n",
              "      <td>NaN</td>\n",
              "      <td>NaN</td>\n",
              "      <td>NaN</td>\n",
              "      <td>NaN</td>\n",
              "      <td>NaN</td>\n",
              "      <td>NaN</td>\n",
              "      <td>NaN</td>\n",
              "      <td>2013.932580</td>\n",
              "      <td>NaN</td>\n",
              "      <td>NaN</td>\n",
              "      <td>NaN</td>\n",
              "      <td>NaN</td>\n",
              "    </tr>\n",
              "    <tr>\n",
              "      <th>std</th>\n",
              "      <td>NaN</td>\n",
              "      <td>NaN</td>\n",
              "      <td>NaN</td>\n",
              "      <td>NaN</td>\n",
              "      <td>NaN</td>\n",
              "      <td>NaN</td>\n",
              "      <td>NaN</td>\n",
              "      <td>8.757395</td>\n",
              "      <td>NaN</td>\n",
              "      <td>NaN</td>\n",
              "      <td>NaN</td>\n",
              "      <td>NaN</td>\n",
              "    </tr>\n",
              "    <tr>\n",
              "      <th>min</th>\n",
              "      <td>NaN</td>\n",
              "      <td>NaN</td>\n",
              "      <td>NaN</td>\n",
              "      <td>NaN</td>\n",
              "      <td>NaN</td>\n",
              "      <td>NaN</td>\n",
              "      <td>NaN</td>\n",
              "      <td>1925.000000</td>\n",
              "      <td>NaN</td>\n",
              "      <td>NaN</td>\n",
              "      <td>NaN</td>\n",
              "      <td>NaN</td>\n",
              "    </tr>\n",
              "    <tr>\n",
              "      <th>25%</th>\n",
              "      <td>NaN</td>\n",
              "      <td>NaN</td>\n",
              "      <td>NaN</td>\n",
              "      <td>NaN</td>\n",
              "      <td>NaN</td>\n",
              "      <td>NaN</td>\n",
              "      <td>NaN</td>\n",
              "      <td>2013.000000</td>\n",
              "      <td>NaN</td>\n",
              "      <td>NaN</td>\n",
              "      <td>NaN</td>\n",
              "      <td>NaN</td>\n",
              "    </tr>\n",
              "    <tr>\n",
              "      <th>50%</th>\n",
              "      <td>NaN</td>\n",
              "      <td>NaN</td>\n",
              "      <td>NaN</td>\n",
              "      <td>NaN</td>\n",
              "      <td>NaN</td>\n",
              "      <td>NaN</td>\n",
              "      <td>NaN</td>\n",
              "      <td>2017.000000</td>\n",
              "      <td>NaN</td>\n",
              "      <td>NaN</td>\n",
              "      <td>NaN</td>\n",
              "      <td>NaN</td>\n",
              "    </tr>\n",
              "    <tr>\n",
              "      <th>75%</th>\n",
              "      <td>NaN</td>\n",
              "      <td>NaN</td>\n",
              "      <td>NaN</td>\n",
              "      <td>NaN</td>\n",
              "      <td>NaN</td>\n",
              "      <td>NaN</td>\n",
              "      <td>NaN</td>\n",
              "      <td>2018.000000</td>\n",
              "      <td>NaN</td>\n",
              "      <td>NaN</td>\n",
              "      <td>NaN</td>\n",
              "      <td>NaN</td>\n",
              "    </tr>\n",
              "    <tr>\n",
              "      <th>max</th>\n",
              "      <td>NaN</td>\n",
              "      <td>NaN</td>\n",
              "      <td>NaN</td>\n",
              "      <td>NaN</td>\n",
              "      <td>NaN</td>\n",
              "      <td>NaN</td>\n",
              "      <td>NaN</td>\n",
              "      <td>2021.000000</td>\n",
              "      <td>NaN</td>\n",
              "      <td>NaN</td>\n",
              "      <td>NaN</td>\n",
              "      <td>NaN</td>\n",
              "    </tr>\n",
              "  </tbody>\n",
              "</table>\n",
              "</div>"
            ],
            "text/plain": [
              "       show_id  ...                                        description\n",
              "count     7787  ...                                               7787\n",
              "unique    7787  ...                                               7769\n",
              "top      s4607  ...  Multiple women report their husbands as missin...\n",
              "freq         1  ...                                                  3\n",
              "mean       NaN  ...                                                NaN\n",
              "std        NaN  ...                                                NaN\n",
              "min        NaN  ...                                                NaN\n",
              "25%        NaN  ...                                                NaN\n",
              "50%        NaN  ...                                                NaN\n",
              "75%        NaN  ...                                                NaN\n",
              "max        NaN  ...                                                NaN\n",
              "\n",
              "[11 rows x 12 columns]"
            ]
          },
          "metadata": {},
          "execution_count": 8
        }
      ]
    },
    {
      "cell_type": "markdown",
      "metadata": {
        "id": "wb-iI1sVnG3R"
      },
      "source": [
        "# **Data Wrangling**"
      ]
    },
    {
      "cell_type": "code",
      "metadata": {
        "id": "rslbtNJonGel"
      },
      "source": [
        "# Here we check the duplicate observtions in our dataset\n",
        "duplicate = netflix_df[netflix_df.duplicated()]"
      ],
      "execution_count": 9,
      "outputs": []
    },
    {
      "cell_type": "code",
      "metadata": {
        "colab": {
          "base_uri": "https://localhost:8080/",
          "height": 66
        },
        "id": "5arYgnPanbyo",
        "outputId": "23ccbaa1-7e13-4ec2-bc51-9aa5cf89a585"
      },
      "source": [
        "# Printing the duplicate observations\n",
        "print(\"Duplicate Rows :\")\n",
        "duplicate"
      ],
      "execution_count": 10,
      "outputs": [
        {
          "output_type": "stream",
          "name": "stdout",
          "text": [
            "Duplicate Rows :\n"
          ]
        },
        {
          "output_type": "execute_result",
          "data": {
            "text/html": [
              "<div>\n",
              "<style scoped>\n",
              "    .dataframe tbody tr th:only-of-type {\n",
              "        vertical-align: middle;\n",
              "    }\n",
              "\n",
              "    .dataframe tbody tr th {\n",
              "        vertical-align: top;\n",
              "    }\n",
              "\n",
              "    .dataframe thead th {\n",
              "        text-align: right;\n",
              "    }\n",
              "</style>\n",
              "<table border=\"1\" class=\"dataframe\">\n",
              "  <thead>\n",
              "    <tr style=\"text-align: right;\">\n",
              "      <th></th>\n",
              "      <th>show_id</th>\n",
              "      <th>type</th>\n",
              "      <th>title</th>\n",
              "      <th>director</th>\n",
              "      <th>cast</th>\n",
              "      <th>country</th>\n",
              "      <th>date_added</th>\n",
              "      <th>release_year</th>\n",
              "      <th>rating</th>\n",
              "      <th>duration</th>\n",
              "      <th>listed_in</th>\n",
              "      <th>description</th>\n",
              "    </tr>\n",
              "  </thead>\n",
              "  <tbody>\n",
              "  </tbody>\n",
              "</table>\n",
              "</div>"
            ],
            "text/plain": [
              "Empty DataFrame\n",
              "Columns: [show_id, type, title, director, cast, country, date_added, release_year, rating, duration, listed_in, description]\n",
              "Index: []"
            ]
          },
          "metadata": {},
          "execution_count": 10
        }
      ]
    },
    {
      "cell_type": "markdown",
      "metadata": {
        "id": "9962BePz-wBS"
      },
      "source": [
        "### **Observation:**\n",
        "Our dataset does not contain any duplicate observations."
      ]
    },
    {
      "cell_type": "code",
      "metadata": {
        "colab": {
          "base_uri": "https://localhost:8080/"
        },
        "id": "I-vK0mK-_nca",
        "outputId": "88dfed55-436a-41ca-f783-e84a92c8931a"
      },
      "source": [
        "# Checking the NAN/Null values in our dataset\n",
        "for i in netflix_df.columns:\n",
        "    null_rate = netflix_df[i].isna().sum() / len(netflix_df) * 100 \n",
        "    if null_rate > 0 :\n",
        "        print(\"{} null values percentage: {}%\".format(i,round(null_rate,2)),\" \\n null value counts:\",netflix_df[i].isna().sum())"
      ],
      "execution_count": 11,
      "outputs": [
        {
          "output_type": "stream",
          "name": "stdout",
          "text": [
            "director null values percentage: 30.68%  \n",
            " null value counts: 2389\n",
            "cast null values percentage: 9.22%  \n",
            " null value counts: 718\n",
            "country null values percentage: 6.51%  \n",
            " null value counts: 507\n",
            "date_added null values percentage: 0.13%  \n",
            " null value counts: 10\n",
            "rating null values percentage: 0.09%  \n",
            " null value counts: 7\n"
          ]
        }
      ]
    },
    {
      "cell_type": "markdown",
      "metadata": {
        "id": "CjUTO1TiB8Lw"
      },
      "source": [
        "### **Observations:** \n",
        "\n",
        "\n",
        "*   The director column has 30% null values, which is a significantly large proportion. In our analysis, these null values cause certain problems.\n",
        "\n"
      ]
    },
    {
      "cell_type": "markdown",
      "metadata": {
        "id": "EBr0Sr4WDmyV"
      },
      "source": [
        "## **Null Value Treatment**"
      ]
    },
    {
      "cell_type": "markdown",
      "metadata": {
        "id": "-EhyM-SqFrcX"
      },
      "source": [
        "This is always circumstance dependent, however in this case: \n",
        "\n",
        "* I will replace blank countries with the mode (most common) country.\n",
        "\n",
        "* I'd like to keep director because it can be fascinating to look at a specific filmmaker's movie. As a result, we substitute the null values with the word 'unknown' for further analysis.\n",
        "\n",
        "* I'd like to keep the cast because it can be fascinating to look at the films of a specific cast. As a result, we substitute the null values with the word 'unknown' for further analysis."
      ]
    },
    {
      "cell_type": "code",
      "metadata": {
        "colab": {
          "base_uri": "https://localhost:8080/"
        },
        "id": "Wk34hcOIGpCJ",
        "outputId": "b1c50021-5be7-4c7a-c934-1cd5ad685d9b"
      },
      "source": [
        "# Replacing the null values in director column\n",
        "netflix_df['director'].replace(np.nan, \"unknown\",inplace  = True)\n",
        "\n",
        "# Checking the null values are replaced or not\n",
        "netflix_df['director'].isnull().sum()"
      ],
      "execution_count": 12,
      "outputs": [
        {
          "output_type": "execute_result",
          "data": {
            "text/plain": [
              "0"
            ]
          },
          "metadata": {},
          "execution_count": 12
        }
      ]
    },
    {
      "cell_type": "code",
      "metadata": {
        "colab": {
          "base_uri": "https://localhost:8080/"
        },
        "id": "EsLg-zCjKduQ",
        "outputId": "70b69096-72db-4818-93ce-0d3c0f311279"
      },
      "source": [
        "# Replacing the null values in cast column\n",
        "netflix_df['cast'].replace(np.nan, \"unknown\",inplace  = True)\n",
        "\n",
        "# Checking the null values are replaced or not\n",
        "netflix_df['cast'].isnull().sum()"
      ],
      "execution_count": 13,
      "outputs": [
        {
          "output_type": "execute_result",
          "data": {
            "text/plain": [
              "0"
            ]
          },
          "metadata": {},
          "execution_count": 13
        }
      ]
    },
    {
      "cell_type": "code",
      "metadata": {
        "colab": {
          "base_uri": "https://localhost:8080/"
        },
        "id": "hRAZw-pYKo_d",
        "outputId": "4172371c-192f-4c2c-9515-de621535871c"
      },
      "source": [
        "# Replacing the null values in country column\n",
        "netflix_df['country'] = netflix_df['country'].fillna(netflix_df['country'].mode()[0])\n",
        "\n",
        "# Checking the null values are replaced or not\n",
        "netflix_df['country'].isnull().sum()"
      ],
      "execution_count": 14,
      "outputs": [
        {
          "output_type": "execute_result",
          "data": {
            "text/plain": [
              "0"
            ]
          },
          "metadata": {},
          "execution_count": 14
        }
      ]
    },
    {
      "cell_type": "code",
      "metadata": {
        "colab": {
          "base_uri": "https://localhost:8080/"
        },
        "id": "URC1i8N6jlAD",
        "outputId": "58d1543c-976e-4007-9d0d-874297db360d"
      },
      "source": [
        "# Replacing the null values in country column\n",
        "netflix_df['rating'] = netflix_df['rating'].fillna(netflix_df['rating'].mode()[0])\n",
        "\n",
        "# Checking the null values are replaced or not\n",
        "netflix_df['rating'].isnull().sum()"
      ],
      "execution_count": 15,
      "outputs": [
        {
          "output_type": "execute_result",
          "data": {
            "text/plain": [
              "0"
            ]
          },
          "metadata": {},
          "execution_count": 15
        }
      ]
    },
    {
      "cell_type": "markdown",
      "metadata": {
        "id": "gRTyERoyLYu3"
      },
      "source": [
        "**There are very few null entries in the date_added fields and there is no logical way to handling the dates, thus deleting them is a better alternative..**"
      ]
    },
    {
      "cell_type": "code",
      "metadata": {
        "id": "-G4oJqiqMxcS"
      },
      "source": [
        "# Dropping the null values\n",
        "netflix_df.dropna(inplace=True)"
      ],
      "execution_count": 16,
      "outputs": []
    },
    {
      "cell_type": "code",
      "metadata": {
        "colab": {
          "base_uri": "https://localhost:8080/"
        },
        "id": "dgzv8ZD7M5y_",
        "outputId": "13f532f9-f739-4d7b-9527-601bc6497c0e"
      },
      "source": [
        "# After dropping null values\n",
        "netflix_df.shape"
      ],
      "execution_count": 17,
      "outputs": [
        {
          "output_type": "execute_result",
          "data": {
            "text/plain": [
              "(7777, 12)"
            ]
          },
          "metadata": {},
          "execution_count": 17
        }
      ]
    },
    {
      "cell_type": "markdown",
      "metadata": {
        "id": "6NORDlXCsT8X"
      },
      "source": [
        "## **Let's genereate new columns for our analyis**"
      ]
    },
    {
      "cell_type": "code",
      "metadata": {
        "colab": {
          "base_uri": "https://localhost:8080/"
        },
        "id": "yfa371uJo-xU",
        "outputId": "5b32e13b-9ef5-4f97-b9f0-3107d9585bff"
      },
      "source": [
        "# Adding the Month-added and year_addedcolumn in our dataset\n",
        "netflix_df['month_added'] = netflix_df['date_added'].apply(lambda x: x.split(\" \")[0])\n",
        "netflix_df['month_added'].head()\n",
        "\n",
        "# Year_added\n",
        "netflix_df['year_added'] = netflix_df['date_added'].apply(lambda x: x.split(\" \")[-1])\n",
        "netflix_df['year_added'].head()"
      ],
      "execution_count": 19,
      "outputs": [
        {
          "output_type": "execute_result",
          "data": {
            "text/plain": [
              "0    2020\n",
              "1    2016\n",
              "2    2018\n",
              "3    2017\n",
              "4    2020\n",
              "Name: year_added, dtype: object"
            ]
          },
          "metadata": {},
          "execution_count": 19
        }
      ]
    },
    {
      "cell_type": "markdown",
      "metadata": {
        "id": "cy2NhlhhuIVi"
      },
      "source": [
        "**Obtaining the first nation name simplifies the county-by-county analysis.**"
      ]
    },
    {
      "cell_type": "code",
      "metadata": {
        "colab": {
          "base_uri": "https://localhost:8080/"
        },
        "id": "Q2jpC-WVsmv9",
        "outputId": "6243a6ff-e5c5-4bc8-e08e-cd4023b2cabc"
      },
      "source": [
        "# Lets retrieve just the first country\n",
        "netflix_df['principal_country'] = netflix_df['country'].apply(lambda x: x.split(\",\")[0])\n",
        "netflix_df['principal_country'].head()"
      ],
      "execution_count": 31,
      "outputs": [
        {
          "output_type": "execute_result",
          "data": {
            "text/plain": [
              "0           Brazil\n",
              "1           Mexico\n",
              "2        Singapore\n",
              "3    United States\n",
              "4    United States\n",
              "Name: principal_country, dtype: object"
            ]
          },
          "metadata": {},
          "execution_count": 31
        }
      ]
    },
    {
      "cell_type": "markdown",
      "metadata": {
        "id": "ABRC81ddyE6T"
      },
      "source": [
        "\n",
        "![image.png](data:image/png;base64,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)"
      ]
    },
    {
      "cell_type": "code",
      "metadata": {
        "colab": {
          "base_uri": "https://localhost:8080/"
        },
        "id": "mpJ2saFezqK4",
        "outputId": "c7404b08-99e9-4377-f496-f59c869a56f6"
      },
      "source": [
        "# Creating new column for age rating\n",
        "rating_ages = {\n",
        "    'TV-PG': 'Older Kids',\n",
        "    'TV-MA': 'Adults',\n",
        "    'TV-Y7-FV': 'Older Kids',\n",
        "    'TV-Y7': 'Older Kids',\n",
        "    'TV-14': 'Young Adults',\n",
        "    'R': 'Adults',\n",
        "    'TV-Y': 'Kids',\n",
        "    'NR': 'Adults',\n",
        "    'PG-13': 'Teens',\n",
        "    'TV-G': 'Kids',\n",
        "    'PG': 'Older Kids',\n",
        "    'G': 'Kids',\n",
        "    'UR': 'Adults',\n",
        "    'NC-17': 'Adults'\n",
        "}\n",
        "\n",
        "netflix_df['age_rating'] = netflix_df['rating'].replace(rating_ages)\n",
        "netflix_df['age_rating'].unique()"
      ],
      "execution_count": 111,
      "outputs": [
        {
          "output_type": "execute_result",
          "data": {
            "text/plain": [
              "array(['Adults', 'Teens', 'Young Adults', 'Older Kids', 'Kids'],\n",
              "      dtype=object)"
            ]
          },
          "metadata": {},
          "execution_count": 111
        }
      ]
    },
    {
      "cell_type": "markdown",
      "metadata": {
        "id": "vdQwIvybq9jL"
      },
      "source": [
        "# **Exploratory Data Analysis(EDA)**"
      ]
    },
    {
      "cell_type": "markdown",
      "metadata": {
        "id": "mzmw_s2VFMmK"
      },
      "source": [
        "##**Analyze the type of content available on Netflix**"
      ]
    },
    {
      "cell_type": "code",
      "metadata": {
        "colab": {
          "base_uri": "https://localhost:8080/",
          "height": 535
        },
        "id": "lflZ3Sp_FeXt",
        "outputId": "168def90-bf7e-4889-c790-21c84f3a2564"
      },
      "source": [
        "# Ploting the countplot\n",
        "plt.figure(figsize=(10,8))\n",
        "ax=sns.countplot('type',data=netflix_df,lw=4, ec='black',\n",
        "                  hatch='/')\n",
        "plt.title('Type of Content', fontsize=15,fontweight='bold',\n",
        "          bbox={'facecolor':'0.8', 'pad':5},)\n",
        "plt.xlabel('Type',fontsize=12)\n",
        "plt.ylabel('Counts',fontsize=12)\n",
        "plt.legend()\n",
        "# Adding Annotation\n",
        "for p in ax.patches:\n",
        "  ax.annotate(format(p.get_height(), '.2f'), (p.get_x() + p.get_width() / 2., p.get_height())\n",
        "  , ha = 'center', va = 'center', xytext = (0, 10), textcoords = 'offset points',fontsize=14)"
      ],
      "execution_count": 20,
      "outputs": [
        {
          "output_type": "stream",
          "name": "stderr",
          "text": [
            "No handles with labels found to put in legend.\n"
          ]
        },
        {
          "output_type": "display_data",
          "data": {
            "image/png": "[encoded data removed]",
            "text/plain": [
              "<Figure size 720x576 with 1 Axes>"
            ]
          },
          "metadata": {
            "needs_background": "light"
          }
        }
      ]
    },
    {
      "cell_type": "code",
      "metadata": {
        "colab": {
          "base_uri": "https://localhost:8080/",
          "height": 374
        },
        "id": "kxrwsYqxIv40",
        "outputId": "1327519f-5dce-4831-ae63-06bfe0857e35"
      },
      "source": [
        "# Parameters for the graph\n",
        "plt.figure(figsize=(8,6))\n",
        "wedgeprops = {\"linewidth\": 2, \"edgecolor\":\"k\"}\n",
        "labels = [\" Movie\",'Tv Show']\n",
        "values = netflix_df['type'].value_counts().values\n",
        "\n",
        "# Ploting the graph\n",
        "myexplode = [0.1, 0]\n",
        "colors = ['brown', 'grey']\n",
        "plt.pie(values, labels=labels, autopct='%1.2f%%', shadow=True,startangle=270,\n",
        "       colors=colors, explode = myexplode, wedgeprops = wedgeprops)\n",
        "\n",
        "plt.title('Type of Content', bbox={'facecolor':'0.8', 'pad':5},\n",
        "          fontsize=14, fontweight='bold')\n",
        "plt.legend()\n",
        "plt.show()"
      ],
      "execution_count": 21,
      "outputs": [
        {
          "output_type": "display_data",
          "data": {
            "image/png": "[encoded data removed]",
            "text/plain": [
              "<Figure size 576x432 with 1 Axes>"
            ]
          },
          "metadata": {}
        }
      ]
    },
    {
      "cell_type": "markdown",
      "metadata": {
        "id": "o3kWPN-CIwgt"
      },
      "source": [
        "### **Observations:** \n",
        "* It is evident that there are more movies on Netflix than TV shows. \n",
        "\n",
        "* Netflix has 5377 movies, which is more than double the quantity of TV shows."
      ]
    },
    {
      "cell_type": "markdown",
      "metadata": {
        "id": "ioGAR0psLyYj"
      },
      "source": [
        "## **Movie ratings analysis**"
      ]
    },
    {
      "cell_type": "code",
      "metadata": {
        "colab": {
          "base_uri": "https://localhost:8080/"
        },
        "id": "iMG1NPfj2I7Y",
        "outputId": "4878f47f-c3cf-471f-c8ab-89c642961417"
      },
      "source": [
        "netflix_df['rating'].value_counts()"
      ],
      "execution_count": 52,
      "outputs": [
        {
          "output_type": "execute_result",
          "data": {
            "text/plain": [
              "TV-MA       2868\n",
              "TV-14       1928\n",
              "TV-PG        804\n",
              "R            665\n",
              "PG-13        386\n",
              "TV-Y         279\n",
              "TV-Y7        270\n",
              "PG           247\n",
              "TV-G         194\n",
              "NR            83\n",
              "G             39\n",
              "TV-Y7-FV       6\n",
              "UR             5\n",
              "NC-17          3\n",
              "Name: rating, dtype: int64"
            ]
          },
          "metadata": {},
          "execution_count": 52
        }
      ]
    },
    {
      "cell_type": "code",
      "metadata": {
        "colab": {
          "base_uri": "https://localhost:8080/",
          "height": 507
        },
        "id": "tmdsHxJywDId",
        "outputId": "08aaa719-94cf-4590-f2c3-5bfc0127f817"
      },
      "source": [
        "# Ploting the countplot for the ratings\n",
        "plt.figure(figsize=(10,8))\n",
        "sns.set(style=\"darkgrid\")\n",
        "ax=sns.countplot('rating',data=netflix_df,lw=2, ec='black',\n",
        "                  order = netflix_df['rating'].value_counts().index)\n",
        "plt.title('Rating Counts', fontsize=15,fontweight='bold',\n",
        "          bbox={'facecolor':'0.8', 'pad':5},)\n",
        "plt.xlabel('Ratings',fontsize=12)\n",
        "plt.ylabel('Counts',fontsize=12)\n",
        "\n",
        "# Adding Annotation\n",
        "for p in ax.patches:\n",
        "  ax.annotate(format(p.get_height(), '.2f'), (p.get_x() + p.get_width() / 2., \n",
        "  p.get_height()), ha = 'center', va = 'center', xytext = (0, 10), \n",
        "  textcoords = 'offset points',fontsize=10, fontweight='bold')"
      ],
      "execution_count": 112,
      "outputs": [
        {
          "output_type": "display_data",
          "data": {
            "image/png": "[encoded data removed]",
            "text/plain": [
              "<Figure size 700x560 with 1 Axes>"
            ]
          },
          "metadata": {}
        }
      ]
    },
    {
      "cell_type": "code",
      "metadata": {
        "id": "2wNg5gmc98bp"
      },
      "source": [
        "# Here, we define a Function that divides movie and television show ratings into age categories\n",
        "rating_order_movie =  ['G', 'TV-Y', 'TV-G', 'PG', 'TV-Y7', 'TV-Y7-FV', 'TV-PG', 'PG-13', 'TV-14', 'R', 'NC-17', 'TV-MA','NR','UR']\n",
        "rating_order_tv =  [ 'TV-Y', 'TV-G', 'TV-Y7', 'TV-Y7-FV', 'TV-PG', 'TV-14', 'TV-MA']\n",
        "movie_rating = netflix_df['rating'].value_counts()[rating_order_movie]\n",
        "tv_rating = netflix_df['rating'].value_counts()[rating_order_tv]\n",
        "\n",
        "def rating_barplot1(data, title, height, h_lim=None):\n",
        "    fig, ax = plt.subplots(1,1, figsize=(15, 7))\n",
        "    if h_lim :\n",
        "        ax.set_ylim(0, h_lim)\n",
        "    ax.bar(data.index, data,  color=\"#d0d0d0\", width=0.6, edgecolor='black')\n",
        "\n",
        "    color =  ['green',  'blue',  'Red',  'orange','yellow']\n",
        "    span_range = [[0, 2], [3,  6], [7,7],[8,8], [9, 13]]\n",
        "\n",
        "    for idx, sub_title in enumerate(['Little Kids', 'Older Kids', 'Teens', 'Young Adults', 'Adults']):\n",
        "        ax.annotate(sub_title,\n",
        "                    xy=(sum(span_range[idx])/2 ,height),\n",
        "                    xytext=(0,0), textcoords='offset points',\n",
        "                    va=\"center\", ha=\"center\",\n",
        "                    color=\"w\", fontsize=16, fontweight='bold',\n",
        "                    bbox=dict(boxstyle='round4', pad=0.4, color=color[idx], alpha=0.6))\n",
        "        ax.axvspan(span_range[idx][0]-0.4,span_range[idx][1]+0.4,  color=color[idx], alpha=0.1)\n",
        "\n",
        "    ax.set_title(f'Distribution of {title} Rating', fontsize=20, fontweight='bold', position=(0.5, 1.0+0.03))\n",
        "    \n",
        "\n",
        "def rating_barplot2(data, title, height, h_lim=None):\n",
        "    fig, ax = plt.subplots(1,1, figsize=(15, 7))\n",
        "    if h_lim :\n",
        "        ax.set_ylim(0, h_lim)\n",
        "    ax.bar(data.index, data,  color=\"#d0d0d0\", width=0.6, edgecolor='black')\n",
        "\n",
        "    color =  ['green',  'blue',  'Red',  'orange','yellow']\n",
        "    span_range = [[0, 1], [2,  4], [5,5],[6,6]]\n",
        "    \n",
        "\n",
        "    for idx, sub_title in enumerate(['Little Kids', 'Older Kids', 'Young Adults', 'Adults']):\n",
        "        ax.annotate(sub_title,\n",
        "                    xy=(sum(span_range[idx])/2 ,height),\n",
        "                    xytext=(0,0), textcoords='offset points',\n",
        "                    va=\"center\", ha=\"center\",\n",
        "                    color=\"w\", fontsize=16, fontweight='bold',\n",
        "                    bbox=dict(boxstyle='round4', pad=0.4, color=color[idx], alpha=0.6))\n",
        "        ax.axvspan(span_range[idx][0]-0.4,span_range[idx][1]+0.4,  color=color[idx], alpha=0.1)\n",
        "\n",
        "    ax.set_title(f'Distribution of {title} Rating', fontsize=20, fontweight='bold', position=(0.5, 1.0+0.03))\n",
        "    plt.show()\n",
        " "
      ],
      "execution_count": 153,
      "outputs": []
    },
    {
      "cell_type": "code",
      "metadata": {
        "colab": {
          "base_uri": "https://localhost:8080/",
          "height": 452
        },
        "id": "zsMguBtU-RrR",
        "outputId": "1f82bd8d-0634-4e1f-b935-f1bfc0e0c880"
      },
      "source": [
        "# Distribution of Movie Rating\n",
        "rating_barplot1(movie_rating,'Movie', 1500)"
      ],
      "execution_count": 154,
      "outputs": [
        {
          "output_type": "display_data",
          "data": {
            "image/png": "[encoded data removed]",
            "text/plain": [
              "<Figure size 1050x490 with 1 Axes>"
            ]
          },
          "metadata": {}
        }
      ]
    },
    {
      "cell_type": "code",
      "metadata": {
        "colab": {
          "base_uri": "https://localhost:8080/",
          "height": 452
        },
        "id": "b18eTef3IvA9",
        "outputId": "f71ebd5d-a73a-4403-cff0-ca28a72ec17f"
      },
      "source": [
        "# Distribution of Tv Show Rating\n",
        "rating_barplot2(tv_rating,'TV Show' , 1500)"
      ],
      "execution_count": 155,
      "outputs": [
        {
          "output_type": "display_data",
          "data": {
            "image/png": "[encoded data removed]",
            "text/plain": [
              "<Figure size 1050x490 with 1 Axes>"
            ]
          },
          "metadata": {}
        }
      ]
    },
    {
      "cell_type": "code",
      "metadata": {
        "colab": {
          "base_uri": "https://localhost:8080/",
          "height": 296
        },
        "id": "9PMsr71hHDaL",
        "outputId": "953c15f1-5432-4863-d5e1-a002b261547b"
      },
      "source": [
        "# Countplot for Adult, Teen, Kids, Older Kids\n",
        "ax=sns.countplot('age_rating',data=netflix_df,lw=2, ec='black',\n",
        "                  order = netflix_df['age_rating'].value_counts().index)\n",
        "plt.title('Age Rating Counts', fontsize=15,fontweight='bold',\n",
        "          bbox={'facecolor':'0.8', 'pad':5},)\n",
        "plt.xlabel('Ratings',fontsize=12)\n",
        "plt.ylabel('Counts',fontsize=12)\n",
        "\n",
        "# Adding Annotation\n",
        "for p in ax.patches:\n",
        "  ax.annotate(format(p.get_height(), '.2f'), (p.get_x() + p.get_width() / 2., \n",
        "  p.get_height()), ha = 'center', va = 'center', xytext = (0, 10), \n",
        "  textcoords = 'offset points',fontsize=10, fontweight='bold')"
      ],
      "execution_count": 99,
      "outputs": [
        {
          "output_type": "display_data",
          "data": {
            "image/png": "[encoded data removed]",
            "text/plain": [
              "<Figure size 420x280 with 1 Axes>"
            ]
          },
          "metadata": {}
        }
      ]
    }
  ]
}